{
  "cells": [
    {
      "cell_type": "markdown",
      "id": "4cdd9769",
      "metadata": {
        "id": "4cdd9769"
      },
      "source": [
        "\n",
        "\n",
        "**Python Project: Basic Library Management System**\n",
        "\n",
        "Project Description:\n",
        "\n",
        "Develop a basic library management system in Python without the use of object-oriented programming. Create a Python script that simulates the functionalities of a library system.\n",
        "\n",
        "Maintain a dictionary to represent the library inventory, where each book is identified by its title, and the corresponding value is the quantity available. Initially, populate the inventory with a set of sample books and quantities.\n",
        "\n",
        "Include essential features such as displaying the available books, allowing users to borrow books, return books, and exit the system.\n",
        "\n",
        "User input will be used to select options from the system menu, and the output should be displayed on the screen.\n",
        "\n"
      ]
    },
    {
      "cell_type": "markdown",
      "id": "ea84ed25",
      "metadata": {
        "id": "ea84ed25"
      },
      "source": [
        "### Expected Sample Output"
      ]
    },
    {
      "cell_type": "markdown",
      "id": "c8706f9d",
      "metadata": {
        "id": "c8706f9d"
      },
      "source": [
        "\n",
        "\n",
        "Welcome to the Basic Library Management System!\n",
        "\n",
        "1. Display Available Books\n",
        "2. Borrow a Book\n",
        "3. Return a Book\n",
        "4. Exit\n",
        "\n",
        "Enter your choice (1-4): 1\n",
        "\n",
        "Available Books:\n",
        "1. Book1 - 5 available\n",
        "2. Book2 - 3 available\n",
        "3. Book3 - 7 available\n",
        "4. Book4 - 2 available\n",
        "5. Book5 - 4 available\n",
        "\n",
        "Enter your choice (1-4): 2\n",
        "\n",
        "Enter the title of the book you want to borrow: Book2\n",
        "Enter the quantity you want to borrow: 2\n",
        "You have borrowed 2 copy(ies) of Book2.\n",
        "\n",
        "Enter your choice (1-4): 1\n",
        "\n",
        "Available Books:\n",
        "1. Book1 - 5 available\n",
        "2. Book2 - 1 available\n",
        "3. Book3 - 7 available\n",
        "4. Book4 - 2 available\n",
        "5. Book5 - 4 available\n",
        "\n",
        "Enter your choice (1-4): 3\n",
        "\n",
        "Enter the title of the book you want to return: Book2\n",
        "Enter the quantity you want to return: 1\n",
        "You have returned 1 copy(ies) of Book2.\n",
        "\n",
        "Enter your choice (1-4): 1\n",
        "\n",
        "Available Books:\n",
        "1. Book1 - 5 available\n",
        "2. Book2 - 2 available\n",
        "3. Book3 - 7 available\n",
        "4. Book4 - 2 available\n",
        "5. Book5 - 4 available\n",
        "\n",
        "Enter your choice (1-4): 4\n",
        "\n",
        "Exiting the Library Management System. Thank you!\n"
      ]
    },
    {
      "cell_type": "code",
      "source": [],
      "metadata": {
        "id": "VGxzyAYP_-04"
      },
      "id": "VGxzyAYP_-04",
      "execution_count": null,
      "outputs": []
    },
    {
      "cell_type": "code",
      "execution_count": null,
      "id": "b30a6ea0",
      "metadata": {
        "id": "b30a6ea0",
        "outputId": "cbec99bc-1162-401b-a8bb-fefc72a94fd0",
        "colab": {
          "base_uri": "https://localhost:8080/"
        }
      },
      "outputs": [
        {
          "output_type": "stream",
          "name": "stdout",
          "text": [
            "System\n",
            "1. Display available books\n",
            "2. Borrow a book\n",
            "3. Return a book\n",
            "4. Exit\n"
          ]
        }
      ],
      "source": [
        "library = {\"Book1\": 5,\"Book2\": 3,\"Book3\": 7,\"Book4\": 2}\n",
        "\n",
        "def display_books():\n",
        "    print(\"Available Books:\")\n",
        "    for book, quantity in library.items():\n",
        "        print(f\"{book}: {quantity}\")\n",
        "\n",
        "def borrow_book(book_title, quantity):\n",
        "    if book_title in library and library[book_title] >= quantity:\n",
        "        library_inventory[book_title] -= quantity\n",
        "        print(f\"You have borrowed {quantity} copy(ies) of {book_title}.\")\n",
        "    else:\n",
        "        print(\"Sorry, the book is not available or the quantity you requested is not available.\")\n",
        "def return_book(book_title, quantity):\n",
        "    if book_title in library:\n",
        "        library[book_title] += quantity\n",
        "        print(f\"You have returned {quantity} copy(ies) of {book_title}.\")\n",
        "    else:\n",
        "        print(\"Invalid book title.\")\n",
        "while True:\n",
        "    print(\"System\")\n",
        "    print(\"1. Display available books\")\n",
        "    print(\"2. Borrow a book\")\n",
        "    print(\"3. Return a book\")\n",
        "    print(\"4. Exit\")\n",
        "\n",
        "    choice = input(\"Enter your choice: \")\n",
        "\n",
        "    if choice == \"1\":\n",
        "        display_books()\n",
        "    elif choice == \"2\":\n",
        "        book_title = input(\"Enter the title of the book: \")\n",
        "        quantity = int(input(\"Enter the quantity you want to borrow: \"))\n",
        "        borrow_book(book_title, quantity)\n",
        "    elif choice == \"3\":\n",
        "        book_title = input(\"Enter the title of the book : \")\n",
        "        quantity = int(input(\"Enter the quantity you want to return: \"))\n",
        "        return_book(book_title, quantity)\n",
        "    elif choice == \"4\":\n",
        "        print(\"Exiting the system. Goodbye!\")\n",
        "        break\n",
        "    else:\n",
        "        print(\"Invalid choice. Please try again.\")\n"
      ]
    }
  ],
  "metadata": {
    "kernelspec": {
      "display_name": "Python 3 (ipykernel)",
      "language": "python",
      "name": "python3"
    },
    "language_info": {
      "codemirror_mode": {
        "name": "ipython",
        "version": 3
      },
      "file_extension": ".py",
      "mimetype": "text/x-python",
      "name": "python",
      "nbconvert_exporter": "python",
      "pygments_lexer": "ipython3",
      "version": "3.9.13"
    },
    "colab": {
      "provenance": []
    }
  },
  "nbformat": 4,
  "nbformat_minor": 5
}