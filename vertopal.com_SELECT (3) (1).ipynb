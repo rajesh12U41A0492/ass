{
 "cells": [
  {
   "cell_type": "markdown",
   "metadata": {},
   "source": [
    "> SELECT \\* FROM Bank_Inventory_pricing;\n",
    ">\n",
    "> SELECT \\* FROM Bank_Inventory_pricing  \n",
    "> ORDER BY  \n",
    "> Estimated_sale_price DESC;  \n",
    "> SELECT  \n",
    "> Bank_Inventory_pricing,  \n",
    "> (Estimated_sale_price - purchase_cost) AS total_profit FROM  \n",
    "> Bank_Inventory_pricing;\n",
    ">\n",
    "> SELECT  \n",
    "> product_name,  \n",
    "> SUM(purchase_cost)  \n",
    "> FROM  \n",
    "> Bank_Inventory_pricing  \n",
    "> GROUP BY  \n",
    "> product;\n",
    ">\n",
    "> SELECT\n",
    "> Product,Quantity,Estimated_sale_price,Quantity\\*Estimated_sale_price\n",
    "> AS Total_Revenue  \n",
    "> FROM bank_inventory_pricing;"
   ],
   "id": "42a14256-91c8-446e-92a7-ab6bf11055d3"
  }
 ],
 "nbformat": 4,
 "nbformat_minor": 5,
 "metadata": {}
}
